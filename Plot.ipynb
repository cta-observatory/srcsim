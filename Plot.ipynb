{
 "cells": [
  {
   "cell_type": "code",
   "execution_count": 1,
   "id": "1b716864",
   "metadata": {},
   "outputs": [],
   "source": [
    "%matplotlib inline\n",
    "import pandas as pd\n",
    "import numpy as np\n",
    "import astropy.units as u\n",
    "import matplotlib.pyplot as plt\n",
    "\n",
    "from simulation import *\n",
    "from source import *\n",
    "from aux import *"
   ]
  },
  {
   "cell_type": "code",
   "execution_count": 2,
   "id": "f3f0b9b4",
   "metadata": {},
   "outputs": [],
   "source": [
    "filename = './dl2_gamma-diffuse_testing.h5'"
   ]
  },
  {
   "cell_type": "code",
   "execution_count": 3,
   "id": "7ca0d465",
   "metadata": {},
   "outputs": [],
   "source": [
    "sim = simulation_object(filename)"
   ]
  },
  {
   "cell_type": "code",
   "execution_count": 4,
   "id": "1ad30fa9",
   "metadata": {},
   "outputs": [],
   "source": [
    "src = source_object(60*u.min)"
   ]
  },
  {
   "cell_type": "code",
   "execution_count": 5,
   "id": "13bf5bfe",
   "metadata": {},
   "outputs": [
    {
     "data": {
      "image/png": "[encoded data removed]",
      "text/plain": [
       "<Figure size 432x288 with 2 Axes>"
      ]
     },
     "metadata": {
      "needs_background": "light"
     },
     "output_type": "display_data"
    }
   ],
   "source": [
    "plt.subplot(121, aspect='equal')\n",
    "plt.hist2d(\n",
    "    sim.cam_x.to('deg').value,\n",
    "    sim.cam_y.to('deg').value,\n",
    "    bins=50,\n",
    "    weights= src.spatial_weights(sim.cam_x,sim.cam_y),\n",
    "    vmax=20\n",
    ")\n",
    "plt.title('Data with weights')\n",
    "plt.colorbar();"
   ]
  },
  {
   "cell_type": "code",
   "execution_count": 6,
   "id": "1186b864",
   "metadata": {},
   "outputs": [
    {
     "data": {
      "image/png": "[encoded data removed]",
      "text/plain": [
       "<Figure size 432x288 with 1 Axes>"
      ]
     },
     "metadata": {
      "needs_background": "light"
     },
     "output_type": "display_data"
    }
   ],
   "source": [
    "binning = [0.01, 0.01547327, 0.023942209, 0.037046426, 0.057322935, 0.088697325, 0.13724377, 0.21236099, 0.32859189, 0.5084391, 0.78672155, 1.2173155, 1.8835851, 2.9145222, 4.5097188, 6.9780098, 10.797263, 16.706896, 25.851032, 40]\n",
    "\n",
    "plt.semilogy()\n",
    "plt.semilogx()\n",
    "plt.hist(\n",
    "    sim.mc_energy.to('TeV').value,\n",
    "    bins=binning,\n",
    "    weights= weighting(sim, src)\n",
    ");"
   ]
  },
  {
   "cell_type": "code",
   "execution_count": 7,
   "id": "ed348559",
   "metadata": {},
   "outputs": [],
   "source": [
    "src_cutoff = source_object(60*u.min, spectrum_parameters = cutoff_spectrum_parameters) "
   ]
  },
  {
   "cell_type": "code",
   "execution_count": 8,
   "id": "a3741ae6",
   "metadata": {},
   "outputs": [
    {
     "data": {
      "image/png": "[encoded data removed]",
      "text/plain": [
       "<Figure size 432x288 with 1 Axes>"
      ]
     },
     "metadata": {
      "needs_background": "light"
     },
     "output_type": "display_data"
    }
   ],
   "source": [
    "binning = [0.01, 0.01547327, 0.023942209, 0.037046426, 0.057322935, 0.088697325, 0.13724377, 0.21236099, 0.32859189, 0.5084391, 0.78672155, 1.2173155, 1.8835851, 2.9145222, 4.5097188, 6.9780098, 10.797263, 16.706896, 25.851032, 40]\n",
    "\n",
    "plt.semilogy()\n",
    "plt.semilogx()\n",
    "plt.hist(\n",
    "    sim.mc_energy.to('TeV').value,\n",
    "    bins=binning,\n",
    "    weights= weighting(sim, src_cutoff)\n",
    ");"
   ]
  },
  {
   "cell_type": "code",
   "execution_count": null,
   "id": "a73a97be",
   "metadata": {},
   "outputs": [],
   "source": []
  }
 ],
 "metadata": {
  "kernelspec": {
   "display_name": "Python 3 (ipykernel)",
   "language": "python",
   "name": "python3"
  },
  "language_info": {
   "codemirror_mode": {
    "name": "ipython",
    "version": 3
   },
   "file_extension": ".py",
   "mimetype": "text/x-python",
   "name": "python",
   "nbconvert_exporter": "python",
   "pygments_lexer": "ipython3",
   "version": "3.8.13"
  }
 },
 "nbformat": 4,
 "nbformat_minor": 5
}
