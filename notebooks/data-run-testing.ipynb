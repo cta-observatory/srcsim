{
 "cells": [
  {
   "cell_type": "code",
   "execution_count": 1,
   "id": "8e2260d8-4869-4b14-a26d-9ff2403eba5a",
   "metadata": {},
   "outputs": [],
   "source": [
    "import sys\n",
    "sys.path.append('../')\n",
    "\n",
    "import yaml\n",
    "import numpy as np\n",
    "import pandas as pd\n",
    "import astropy.units as u\n",
    "from astropy.time import Time\n",
    "from astropy.coordinates import SkyCoord, SkyOffsetFrame, EarthLocation, AltAz\n",
    "\n",
    "from matplotlib import pyplot\n",
    "\n",
    "from srcsim.mc import MCCollection\n",
    "from srcsim.src import generator as srcgen\n",
    "from srcsim.run import DataRun"
   ]
  },
  {
   "cell_type": "markdown",
   "id": "15a7b367-025d-4335-aa1f-6f55889deb86",
   "metadata": {
    "tags": []
   },
   "source": [
    "# Simulation"
   ]
  },
  {
   "cell_type": "markdown",
   "id": "838fc07c-c28f-46bf-87c9-aeced2274af5",
   "metadata": {},
   "source": [
    "Global configuration defining what will be simulated"
   ]
  },
  {
   "cell_type": "code",
   "execution_count": 2,
   "id": "65272ddb-9517-480f-a6b9-69135e7b279f",
   "metadata": {},
   "outputs": [],
   "source": [
    "cfg = yaml.load(open('run_example.yaml', \"r\"), Loader=yaml.FullLoader)"
   ]
  },
  {
   "cell_type": "markdown",
   "id": "c73dd700-b888-4d50-b28e-2c95cb6db7ef",
   "metadata": {},
   "source": [
    "### MC file"
   ]
  },
  {
   "cell_type": "code",
   "execution_count": 3,
   "id": "09a07e97-4555-48e5-a035-e4872879e54f",
   "metadata": {},
   "outputs": [],
   "source": [
    "# file_name = 'dl2_gamma-diffuse_20deg_180deg_20201125_v0.6.3_prod5_v00_testing.h5'\n",
    "# file_name = \"dl2_gamma-diffuse_testing.h5\"\n",
    "\n",
    "# max_samples = 1000\n",
    "\n",
    "# mc = MCCollection(file_name)\n",
    "# mc.samples = mc.samples[:max_samples]\n",
    "# mc"
   ]
  },
  {
   "cell_type": "code",
   "execution_count": null,
   "id": "3392ea72-d9d2-45c2-a997-cab751303a77",
   "metadata": {},
   "outputs": [],
   "source": []
  },
  {
   "cell_type": "code",
   "execution_count": 4,
   "id": "37c1d467-7550-411d-b149-0be0caedf6f4",
   "metadata": {},
   "outputs": [],
   "source": [
    "mc = {\n",
    "    emission_type: MCCollection(cfg['mc'][emission_type]['files'])\n",
    "    for emission_type in cfg['mc']\n",
    "}\n",
    "\n",
    "for emission_type in mc:\n",
    "    if cfg['mc'][emission_type]['max_samples'] is not None:\n",
    "        mc[emission_type].samples = mc[emission_type].samples[:cfg['mc'][emission_type]['max_samples']]"
   ]
  },
  {
   "cell_type": "markdown",
   "id": "1c3d7399-cf80-4194-85b7-38609e9db4fd",
   "metadata": {},
   "source": [
    "### Sources"
   ]
  },
  {
   "cell_type": "code",
   "execution_count": 5,
   "id": "b3fd6d57-001b-4837-baf1-8a154aa79bc3",
   "metadata": {},
   "outputs": [
    {
     "name": "stdout",
     "output_type": "stream",
     "text": [
      "GaussSource instance\n",
      "    Name................: source\n",
      "    Emission type.......: gamma\n",
      "    Position............: <SkyCoord (ICRS): (ra, dec) in deg\n",
      "    (83., 22.)>\n",
      "    Sigma...............: 0.3 deg\n",
      "\n",
      "DiskSource instance\n",
      "    Name................: source\n",
      "    Emission type.......: gamma\n",
      "    Position............: <SkyCoord (ICRS): (ra, dec) in deg\n",
      "    (83., 20.)>\n",
      "    Radius..............: 0.3 deg\n",
      "\n",
      "IsotropicSource instance\n",
      "    Name................: source\n",
      "    Emission type.......: proton\n",
      "    Position............: <SkyCoord (ICRS): (ra, dec) in deg\n",
      "    (83., 20.)>\n",
      "\n"
     ]
    },
    {
     "data": {
      "text/plain": [
       "[<srcsim.src.GaussSource object at 0x7faacd55c790>,\n",
       " <srcsim.src.DiskSource object at 0x7faacd55c0a0>,\n",
       " <srcsim.src.IsotropicSource object at 0x7faacd55cd30>]"
      ]
     },
     "execution_count": 5,
     "metadata": {},
     "output_type": "execute_result"
    }
   ],
   "source": [
    "srcs = srcgen(cfg['sources'])\n",
    "srcs"
   ]
  },
  {
   "cell_type": "markdown",
   "id": "0439558b-9e32-47c2-8f25-7a5f5108309c",
   "metadata": {},
   "source": [
    "### Data \"run\""
   ]
  },
  {
   "cell_type": "markdown",
   "id": "a8d35d2d-0280-445f-8672-39df5ac7957f",
   "metadata": {},
   "source": [
    "Can define a run by hand..."
   ]
  },
  {
   "cell_type": "code",
   "execution_count": 6,
   "id": "f67b6323-3af0-49ab-8fa5-6a8848c07e2b",
   "metadata": {},
   "outputs": [],
   "source": [
    "# #Can define a run by hand...\n",
    "# lst_loc = EarthLocation(lat=28.761758*u.deg, lon=-17.890659*u.deg, height=2200*u.m)\n",
    "# run = DataRun(\n",
    "#     SkyCoord(83, 21, unit='deg', frame='icrs'),\n",
    "#     Time('2022-05-31T15:00:00'),\n",
    "#     Time('2022-05-31T15:20:00'),\n",
    "#     lst_loc\n",
    "# )"
   ]
  },
  {
   "cell_type": "markdown",
   "id": "7a4ed46d-dd81-4c63-bcc6-590e6d157931",
   "metadata": {},
   "source": [
    "... but better take the settings from the specified configuration."
   ]
  },
  {
   "cell_type": "code",
   "execution_count": 7,
   "id": "1619f157-96e3-451d-be22-a439e9f8e758",
   "metadata": {},
   "outputs": [
    {
     "name": "stdout",
     "output_type": "stream",
     "text": [
      "DataRun instance\n",
      "    Tel. RA/Dec.........: <SkyCoord (ICRS): (ra, dec) in deg\n",
      "    (83., 21.)>\n",
      "    Tstart..............: 2022-05-31T15:00:00.000\n",
      "    Tstop...............: 2022-05-31T15:20:00.000\n",
      "    Tel. azimuth........: [239.30 deg - 248.48 deg]\n",
      "    Tel. alt............: [76.00 deg - 72.05 deg]\n",
      "\n"
     ]
    },
    {
     "data": {
      "text/plain": [
       "<srcsim.run.DataRun object at 0x7faacd55e560>"
      ]
     },
     "execution_count": 7,
     "metadata": {},
     "output_type": "execute_result"
    }
   ],
   "source": [
    "run = DataRun.from_config(cfg['run'])\n",
    "run"
   ]
  },
  {
   "cell_type": "markdown",
   "id": "44549fa3-46e5-4703-a314-267d87e8be9d",
   "metadata": {},
   "source": [
    "### Simulation..."
   ]
  },
  {
   "cell_type": "code",
   "execution_count": 8,
   "id": "61121cd5-04c7-4ed6-9154-cca5fcfdfb9d",
   "metadata": {},
   "outputs": [],
   "source": [
    "evt = [\n",
    "    run.predict(\n",
    "        mc,\n",
    "        src,\n",
    "        tel_pos_tolerance=180*u.deg,\n",
    "        time_step=1*u.minute\n",
    "    )\n",
    "    for src in srcs\n",
    "]\n",
    "events = pd.concat(evt)"
   ]
  },
  {
   "cell_type": "code",
   "execution_count": 9,
   "id": "2e90a9ea-ccd8-4628-b4a5-a5bfa4762786",
   "metadata": {},
   "outputs": [],
   "source": [
    "evtdl3 = events.query('mc_energy > 0.1 & intensity > 100 & gammaness > 0.5')"
   ]
  },
  {
   "cell_type": "markdown",
   "id": "49abd8c5-5350-4976-973c-8e21faf7240e",
   "metadata": {},
   "source": [
    "# Ploting the simulated events"
   ]
  },
  {
   "cell_type": "code",
   "execution_count": 10,
   "id": "c029d8a4-abac-4e78-bf9e-c52c790c1951",
   "metadata": {},
   "outputs": [],
   "source": [
    "lst_focal_length = 28.01 * u.m\n",
    "cam2angle = 1 * u.rad / lst_focal_length\n",
    "cam_x, cam_y = evtdl3[['src_x', 'src_y']].to_numpy().transpose() * u.m * cam2angle"
   ]
  },
  {
   "cell_type": "code",
   "execution_count": 11,
   "id": "bee63c5f-04b1-4c55-a36f-f1e8ed4e2204",
   "metadata": {},
   "outputs": [],
   "source": [
    "tel_pos = run.tel_pos\n",
    "frame = AltAz(\n",
    "    obstime=Time(evtdl3['dragon_time'], format='unix'),\n",
    "    location=run.obsloc\n",
    ")\n",
    "\n",
    "tel_pos = run.tel_pos.transform_to(frame)\n",
    "\n",
    "offset_frame = SkyOffsetFrame(\n",
    "    origin=tel_pos.altaz.skyoffset_frame().origin,\n",
    "    location=tel_pos.altaz.frame.location,\n",
    "    obstime=tel_pos.altaz.frame.obstime\n",
    ")\n",
    "\n",
    "coords = SkyCoord(\n",
    "    evtdl3['src_x'].to_numpy() * u.m * cam2angle,\n",
    "    evtdl3['src_y'].to_numpy() * u.m * cam2angle,\n",
    "    frame=offset_frame\n",
    ")"
   ]
  },
  {
   "cell_type": "code",
   "execution_count": 12,
   "id": "a4005e25-0b57-4a7c-9a69-6a8ed943bd22",
   "metadata": {},
   "outputs": [
    {
     "data": {
      "text/plain": [
       "<matplotlib.colorbar.Colorbar at 0x7faac5618100>"
      ]
     },
     "execution_count": 12,
     "metadata": {},
     "output_type": "execute_result"
    },
    {
     "data": {
      "image/png": "[encoded data removed]",
      "text/plain": [
       "<Figure size 432x288 with 2 Axes>"
      ]
     },
     "metadata": {
      "needs_background": "light"
     },
     "output_type": "display_data"
    }
   ],
   "source": [
    "pyplot.xlabel('Cam X [deg]')\n",
    "pyplot.ylabel('Cam Y [deg]')\n",
    "pyplot.hist2d(\n",
    "    cam_x.to('deg').value,\n",
    "    cam_y.to('deg').value,\n",
    "    range=(\n",
    "        (-2, 2),\n",
    "        (-2, 2)\n",
    "    ),\n",
    "    bins=50\n",
    ");\n",
    "pyplot.colorbar()"
   ]
  },
  {
   "cell_type": "code",
   "execution_count": 13,
   "id": "bddfd9c9-a990-474a-8427-660c3730152e",
   "metadata": {},
   "outputs": [
    {
     "data": {
      "text/plain": [
       "<matplotlib.colorbar.Colorbar at 0x7faac5507550>"
      ]
     },
     "execution_count": 13,
     "metadata": {},
     "output_type": "execute_result"
    },
    {
     "data": {
      "image/png": "[encoded data removed]",
      "text/plain": [
       "<Figure size 432x288 with 2 Axes>"
      ]
     },
     "metadata": {
      "needs_background": "light"
     },
     "output_type": "display_data"
    }
   ],
   "source": [
    "pyplot.xlabel('RA [deg]')\n",
    "pyplot.ylabel('Dec [deg]')\n",
    "pyplot.hist2d(\n",
    "    coords.icrs.ra.to('deg').value,\n",
    "    coords.icrs.dec.to('deg').value,\n",
    "    range=[\n",
    "        (run.tel_pos.ra.to('deg').value - 2, run.tel_pos.ra.to('deg').value + 2),\n",
    "        (run.tel_pos.dec.to('deg').value - 2, run.tel_pos.dec.to('deg').value + 2)\n",
    "    ],\n",
    "    bins=50\n",
    ");\n",
    "pyplot.colorbar()"
   ]
  },
  {
   "cell_type": "code",
   "execution_count": 14,
   "id": "c5c973c2-071e-4ce3-94cb-05477f9854b3",
   "metadata": {},
   "outputs": [
    {
     "data": {
      "text/plain": [
       "<matplotlib.collections.PathCollection at 0x7faac592d6c0>"
      ]
     },
     "execution_count": 14,
     "metadata": {},
     "output_type": "execute_result"
    },
    {
     "data": {
      "image/png": "[encoded data removed]",
      "text/plain": [
       "<Figure size 432x288 with 2 Axes>"
      ]
     },
     "metadata": {
      "needs_background": "light"
     },
     "output_type": "display_data"
    }
   ],
   "source": [
    "pyplot.xlabel('Az [deg]')\n",
    "pyplot.ylabel('Alt [deg]')\n",
    "\n",
    "pyplot.hist2d(\n",
    "    (evtdl3['reco_az'].to_numpy() * u.rad).to('deg').value,\n",
    "    (evtdl3['reco_alt'].to_numpy() * u.rad).to('deg').value,\n",
    "    bins=50\n",
    ");\n",
    "pyplot.colorbar()\n",
    "\n",
    "pyplot.scatter(\n",
    "    tel_pos.az.to('deg').value,\n",
    "    tel_pos.alt.to('deg').value,\n",
    "    color='white'\n",
    ")"
   ]
  },
  {
   "cell_type": "code",
   "execution_count": 15,
   "id": "608470b8-5066-481d-a005-dada994a14d5",
   "metadata": {},
   "outputs": [
    {
     "data": {
      "image/png": "[encoded data removed]",
      "text/plain": [
       "<Figure size 432x288 with 1 Axes>"
      ]
     },
     "metadata": {
      "needs_background": "light"
     },
     "output_type": "display_data"
    }
   ],
   "source": [
    "pyplot.semilogy()\n",
    "pyplot.hist(\n",
    "    np.log10(evtdl3['mc_energy']),\n",
    "    # np.log10(mcevents.samples[0].data_table['mc_energy']),\n",
    "    bins=50\n",
    ");"
   ]
  },
  {
   "cell_type": "code",
   "execution_count": 16,
   "id": "72c1615a-86d8-443e-a051-ef48f0d2cd50",
   "metadata": {},
   "outputs": [
    {
     "data": {
      "text/plain": [
       "[<matplotlib.lines.Line2D at 0x7faac5434700>]"
      ]
     },
     "execution_count": 16,
     "metadata": {},
     "output_type": "execute_result"
    },
    {
     "data": {
      "image/png": "[encoded data removed]",
      "text/plain": [
       "<Figure size 432x288 with 1 Axes>"
      ]
     },
     "metadata": {
      "needs_background": "light"
     },
     "output_type": "display_data"
    }
   ],
   "source": [
    "pyplot.plot(\n",
    "    evtdl3['dragon_time'].to_numpy(),\n",
    ")"
   ]
  },
  {
   "cell_type": "code",
   "execution_count": null,
   "id": "43a84546-ef85-4243-9ac9-ba6478d20e5e",
   "metadata": {},
   "outputs": [],
   "source": []
  },
  {
   "cell_type": "code",
   "execution_count": null,
   "id": "3f230dc7-943b-40fe-9183-11cbeaf4341f",
   "metadata": {},
   "outputs": [],
   "source": []
  }
 ],
 "metadata": {
  "kernelspec": {
   "display_name": "Python 3 (ipykernel)",
   "language": "python",
   "name": "python3"
  },
  "language_info": {
   "codemirror_mode": {
    "name": "ipython",
    "version": 3
   },
   "file_extension": ".py",
   "mimetype": "text/x-python",
   "name": "python",
   "nbconvert_exporter": "python",
   "pygments_lexer": "ipython3",
   "version": "3.10.4"
  }
 },
 "nbformat": 4,
 "nbformat_minor": 5
}
