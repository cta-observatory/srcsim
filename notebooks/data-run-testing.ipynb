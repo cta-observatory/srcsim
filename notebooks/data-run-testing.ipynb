{
 "cells": [
  {
   "cell_type": "code",
   "execution_count": 1,
   "id": "8e2260d8-4869-4b14-a26d-9ff2403eba5a",
   "metadata": {},
   "outputs": [],
   "source": [
    "import sys\n",
    "sys.path.append('../')\n",
    "\n",
    "import yaml\n",
    "import numpy as np\n",
    "import pandas as pd\n",
    "import astropy.units as u\n",
    "from astropy.time import Time\n",
    "from astropy.coordinates import SkyCoord, SkyOffsetFrame, EarthLocation, AltAz\n",
    "\n",
    "from matplotlib import pyplot\n",
    "\n",
    "from srcsim.mc import MCCollection\n",
    "from srcsim.src import generator as srcgen\n",
    "from srcsim.run import DataRun"
   ]
  },
  {
   "cell_type": "markdown",
   "id": "15a7b367-025d-4335-aa1f-6f55889deb86",
   "metadata": {},
   "source": [
    "# Simulation"
   ]
  },
  {
   "cell_type": "markdown",
   "id": "838fc07c-c28f-46bf-87c9-aeced2274af5",
   "metadata": {},
   "source": [
    "Global configuration defining what will be simulated"
   ]
  },
  {
   "cell_type": "code",
   "execution_count": 2,
   "id": "65272ddb-9517-480f-a6b9-69135e7b279f",
   "metadata": {},
   "outputs": [],
   "source": [
    "cfg = yaml.load(open('run_example.yaml', \"r\"), Loader=yaml.FullLoader)"
   ]
  },
  {
   "cell_type": "markdown",
   "id": "c73dd700-b888-4d50-b28e-2c95cb6db7ef",
   "metadata": {},
   "source": [
    "### MC file"
   ]
  },
  {
   "cell_type": "code",
   "execution_count": 3,
   "id": "09a07e97-4555-48e5-a035-e4872879e54f",
   "metadata": {},
   "outputs": [
    {
     "name": "stdout",
     "output_type": "stream",
     "text": [
      "MCEvents instance\n",
      "    File name...........: dl2_gamma-diffuse_testing.h5\n",
      "    Obs IDs.............: (1001, 1002, 1008, 1012, 1016)\n",
      "    Azimuth range.......: 180.00 deg - 180.00 deg\n",
      "    Altitude range......: 70.00 deg - 70.00 deg\n",
      "\n"
     ]
    },
    {
     "data": {
      "text/plain": [
       "<srcsim.mc.MCEvents object at 0x7fdb88a50b50>"
      ]
     },
     "execution_count": 3,
     "metadata": {},
     "output_type": "execute_result"
    }
   ],
   "source": [
    "mcevents = MCCollection('dl2_gamma-diffuse_testing.h5')\n",
    "mcevents"
   ]
  },
  {
   "cell_type": "markdown",
   "id": "1c3d7399-cf80-4194-85b7-38609e9db4fd",
   "metadata": {},
   "source": [
    "### Source"
   ]
  },
  {
   "cell_type": "code",
   "execution_count": 4,
   "id": "b3fd6d57-001b-4837-baf1-8a154aa79bc3",
   "metadata": {},
   "outputs": [
    {
     "name": "stdout",
     "output_type": "stream",
     "text": [
      "GaussSource instance\n",
      "    Position............: <SkyCoord (ICRS): (ra, dec) in deg\n",
      "    (83., 22.)>\n",
      "    Sigma...............: 0.5 deg\n",
      "\n"
     ]
    },
    {
     "data": {
      "text/plain": [
       "<srcsim.src.GaussSource object at 0x7fdb1f9d20b0>"
      ]
     },
     "execution_count": 4,
     "metadata": {},
     "output_type": "execute_result"
    }
   ],
   "source": [
    "src = srcgen(cfg['source'])\n",
    "src"
   ]
  },
  {
   "cell_type": "markdown",
   "id": "0439558b-9e32-47c2-8f25-7a5f5108309c",
   "metadata": {},
   "source": [
    "### Data \"run\""
   ]
  },
  {
   "cell_type": "markdown",
   "id": "a8d35d2d-0280-445f-8672-39df5ac7957f",
   "metadata": {},
   "source": [
    "Can define a run by hand..."
   ]
  },
  {
   "cell_type": "code",
   "execution_count": 5,
   "id": "f67b6323-3af0-49ab-8fa5-6a8848c07e2b",
   "metadata": {},
   "outputs": [],
   "source": [
    "# #Can define a run by hand...\n",
    "# lst_loc = EarthLocation(lat=28.761758*u.deg, lon=-17.890659*u.deg, height=2200*u.m)\n",
    "# run = DataRun(\n",
    "#     SkyCoord(83, 21, unit='deg', frame='icrs'),\n",
    "#     Time('2022-05-31T15:00:00'),\n",
    "#     Time('2022-05-31T15:20:00'),\n",
    "#     lst_loc\n",
    "# )"
   ]
  },
  {
   "cell_type": "markdown",
   "id": "7a4ed46d-dd81-4c63-bcc6-590e6d157931",
   "metadata": {},
   "source": [
    "... but better take the settings from the specified configuration."
   ]
  },
  {
   "cell_type": "code",
   "execution_count": 6,
   "id": "1619f157-96e3-451d-be22-a439e9f8e758",
   "metadata": {},
   "outputs": [
    {
     "name": "stdout",
     "output_type": "stream",
     "text": [
      "DataRun instance\n",
      "    Tel. RA/Dec.........: <SkyCoord (ICRS): (ra, dec) in deg\n",
      "    (83., 21.)>\n",
      "    Tstart..............: 2022-05-31T15:00:00.000\n",
      "    Tstop...............: 2022-05-31T15:20:00.000\n",
      "    Tel. azimuth........: [239.30 deg - 248.48 deg]\n",
      "    Tel. alt............: [76.00 deg - 72.05 deg]\n",
      "\n"
     ]
    },
    {
     "data": {
      "text/plain": [
       "<srcsim.run.DataRun object at 0x7fdb1f9d14e0>"
      ]
     },
     "execution_count": 6,
     "metadata": {},
     "output_type": "execute_result"
    }
   ],
   "source": [
    "run = DataRun.from_config(cfg['run'])\n",
    "run"
   ]
  },
  {
   "cell_type": "markdown",
   "id": "44549fa3-46e5-4703-a314-267d87e8be9d",
   "metadata": {},
   "source": [
    "### Simulation..."
   ]
  },
  {
   "cell_type": "code",
   "execution_count": 7,
   "id": "61121cd5-04c7-4ed6-9154-cca5fcfdfb9d",
   "metadata": {},
   "outputs": [
    {
     "name": "stderr",
     "output_type": "stream",
     "text": [
      "/usr/lib/python3/dist-packages/pandas/core/indexing.py:1817: SettingWithCopyWarning: \n",
      "A value is trying to be set on a copy of a slice from a DataFrame.\n",
      "Try using .loc[row_indexer,col_indexer] = value instead\n",
      "\n",
      "See the caveats in the documentation: https://pandas.pydata.org/pandas-docs/stable/user_guide/indexing.html#returning-a-view-versus-a-copy\n",
      "  self._setitem_single_column(loc, value, pi)\n"
     ]
    }
   ],
   "source": [
    "events = run.get_events(\n",
    "    mcevents,\n",
    "    src,\n",
    ")"
   ]
  },
  {
   "cell_type": "markdown",
   "id": "49abd8c5-5350-4976-973c-8e21faf7240e",
   "metadata": {},
   "source": [
    "# Ploting the simulated events"
   ]
  },
  {
   "cell_type": "code",
   "execution_count": 8,
   "id": "c029d8a4-abac-4e78-bf9e-c52c790c1951",
   "metadata": {},
   "outputs": [],
   "source": [
    "lst_focal_length = 29.5 * u.m\n",
    "cam2angle = 1 * u.rad / lst_focal_length\n",
    "cam_x, cam_y = events[['reco_src_x', 'reco_src_y']].to_numpy().transpose() * u.m * cam2angle"
   ]
  },
  {
   "cell_type": "code",
   "execution_count": 9,
   "id": "a4005e25-0b57-4a7c-9a69-6a8ed943bd22",
   "metadata": {},
   "outputs": [
    {
     "data": {
      "text/plain": [
       "<matplotlib.colorbar.Colorbar at 0x7fdafff1cd60>"
      ]
     },
     "execution_count": 9,
     "metadata": {},
     "output_type": "execute_result"
    },
    {
     "data": {
      "image/png": "[encoded data removed]",
      "text/plain": [
       "<Figure size 432x288 with 2 Axes>"
      ]
     },
     "metadata": {
      "needs_background": "light"
     },
     "output_type": "display_data"
    }
   ],
   "source": [
    "pyplot.hist2d(\n",
    "    cam_x.to('deg').value,\n",
    "    cam_y.to('deg').value,\n",
    "    range=(\n",
    "        (-2, 2),\n",
    "        (-2, 2)\n",
    "    ),\n",
    "    bins=50\n",
    ");\n",
    "pyplot.colorbar()"
   ]
  },
  {
   "cell_type": "code",
   "execution_count": 10,
   "id": "608470b8-5066-481d-a005-dada994a14d5",
   "metadata": {},
   "outputs": [
    {
     "data": {
      "image/png": "[encoded data removed]",
      "text/plain": [
       "<Figure size 432x288 with 1 Axes>"
      ]
     },
     "metadata": {
      "needs_background": "light"
     },
     "output_type": "display_data"
    }
   ],
   "source": [
    "pyplot.semilogy()\n",
    "pyplot.hist(\n",
    "    np.log10(events['mc_energy']),\n",
    "    # np.log10(mcevents.samples[0].data_table['mc_energy']),\n",
    "    bins=50\n",
    ");"
   ]
  },
  {
   "cell_type": "code",
   "execution_count": 11,
   "id": "72c1615a-86d8-443e-a051-ef48f0d2cd50",
   "metadata": {},
   "outputs": [
    {
     "data": {
      "text/plain": [
       "[<matplotlib.lines.Line2D at 0x7fdafff2e7d0>]"
      ]
     },
     "execution_count": 11,
     "metadata": {},
     "output_type": "execute_result"
    },
    {
     "data": {
      "image/png": "[encoded data removed]",
      "text/plain": [
       "<Figure size 432x288 with 1 Axes>"
      ]
     },
     "metadata": {
      "needs_background": "light"
     },
     "output_type": "display_data"
    }
   ],
   "source": [
    "pyplot.plot(\n",
    "    events['dragon_time'].to_numpy(),\n",
    ")"
   ]
  },
  {
   "cell_type": "code",
   "execution_count": null,
   "id": "c0e1ba48-65a7-4f84-b58c-6e13dcd6d155",
   "metadata": {},
   "outputs": [],
   "source": []
  },
  {
   "cell_type": "code",
   "execution_count": null,
   "id": "43aeae60-ebca-4720-87b8-87022a81a28e",
   "metadata": {},
   "outputs": [],
   "source": []
  }
 ],
 "metadata": {
  "kernelspec": {
   "display_name": "Python 3 (ipykernel)",
   "language": "python",
   "name": "python3"
  },
  "language_info": {
   "codemirror_mode": {
    "name": "ipython",
    "version": 3
   },
   "file_extension": ".py",
   "mimetype": "text/x-python",
   "name": "python",
   "nbconvert_exporter": "python",
   "pygments_lexer": "ipython3",
   "version": "3.10.4"
  }
 },
 "nbformat": 4,
 "nbformat_minor": 5
}
